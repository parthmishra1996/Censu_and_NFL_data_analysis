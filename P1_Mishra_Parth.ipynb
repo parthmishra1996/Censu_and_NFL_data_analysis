{
 "cells": [
  {
   "cell_type": "markdown",
   "metadata": {
    "id": "3a_k37wMdU5f"
   },
   "source": [
    "# P1\n",
    "\n",
    "## Parth Mishra\n",
    "\n",
    " \n"
   ]
  },
  {
   "cell_type": "code",
   "execution_count": 1,
   "metadata": {
    "id": "vHO5ETnZdU5s"
   },
   "outputs": [
    {
     "name": "stderr",
     "output_type": "stream",
     "text": [
      "Matplotlib is building the font cache; this may take a moment.\n"
     ]
    }
   ],
   "source": [
    "import pandas as pd\n",
    "import numpy as np\n",
    "import matplotlib as mpl\n",
    "import matplotlib.pyplot as plt\n",
    "import seaborn as sb\n",
    "%matplotlib inline"
   ]
  },
  {
   "cell_type": "markdown",
   "metadata": {
    "id": "REUnQyqRdU5u"
   },
   "source": [
    "# Q1 \n",
    "### Census Data"
   ]
  },
  {
   "cell_type": "code",
   "execution_count": 3,
   "metadata": {},
   "outputs": [],
   "source": [
    "cen_df = pd.read_table('P1-data/adult.data.txt', sep=',', names = ['age', 'workclass','fnlwgt','education','education-num','marital-status','occupation','relationship','race','sex','capital-gain','capital-loss','hours-per-week','native-country', 'target'])"
   ]
  },
  {
   "cell_type": "code",
   "execution_count": 4,
   "metadata": {},
   "outputs": [
    {
     "data": {
      "text/html": [
       "<div>\n",
       "<style scoped>\n",
       "    .dataframe tbody tr th:only-of-type {\n",
       "        vertical-align: middle;\n",
       "    }\n",
       "\n",
       "    .dataframe tbody tr th {\n",
       "        vertical-align: top;\n",
       "    }\n",
       "\n",
       "    .dataframe thead th {\n",
       "        text-align: right;\n",
       "    }\n",
       "</style>\n",
       "<table border=\"1\" class=\"dataframe\">\n",
       "  <thead>\n",
       "    <tr style=\"text-align: right;\">\n",
       "      <th></th>\n",
       "      <th>age</th>\n",
       "      <th>workclass</th>\n",
       "      <th>fnlwgt</th>\n",
       "      <th>education</th>\n",
       "      <th>education-num</th>\n",
       "      <th>marital-status</th>\n",
       "      <th>occupation</th>\n",
       "      <th>relationship</th>\n",
       "      <th>race</th>\n",
       "      <th>sex</th>\n",
       "      <th>capital-gain</th>\n",
       "      <th>capital-loss</th>\n",
       "      <th>hours-per-week</th>\n",
       "      <th>native-country</th>\n",
       "      <th>target</th>\n",
       "    </tr>\n",
       "  </thead>\n",
       "  <tbody>\n",
       "    <tr>\n",
       "      <th>0</th>\n",
       "      <td>39</td>\n",
       "      <td>State-gov</td>\n",
       "      <td>77516</td>\n",
       "      <td>Bachelors</td>\n",
       "      <td>13</td>\n",
       "      <td>Never-married</td>\n",
       "      <td>Adm-clerical</td>\n",
       "      <td>Not-in-family</td>\n",
       "      <td>White</td>\n",
       "      <td>Male</td>\n",
       "      <td>2174</td>\n",
       "      <td>0</td>\n",
       "      <td>40</td>\n",
       "      <td>United-States</td>\n",
       "      <td>&lt;=50K</td>\n",
       "    </tr>\n",
       "    <tr>\n",
       "      <th>1</th>\n",
       "      <td>50</td>\n",
       "      <td>Self-emp-not-inc</td>\n",
       "      <td>83311</td>\n",
       "      <td>Bachelors</td>\n",
       "      <td>13</td>\n",
       "      <td>Married-civ-spouse</td>\n",
       "      <td>Exec-managerial</td>\n",
       "      <td>Husband</td>\n",
       "      <td>White</td>\n",
       "      <td>Male</td>\n",
       "      <td>0</td>\n",
       "      <td>0</td>\n",
       "      <td>13</td>\n",
       "      <td>United-States</td>\n",
       "      <td>&lt;=50K</td>\n",
       "    </tr>\n",
       "    <tr>\n",
       "      <th>2</th>\n",
       "      <td>38</td>\n",
       "      <td>Private</td>\n",
       "      <td>215646</td>\n",
       "      <td>HS-grad</td>\n",
       "      <td>9</td>\n",
       "      <td>Divorced</td>\n",
       "      <td>Handlers-cleaners</td>\n",
       "      <td>Not-in-family</td>\n",
       "      <td>White</td>\n",
       "      <td>Male</td>\n",
       "      <td>0</td>\n",
       "      <td>0</td>\n",
       "      <td>40</td>\n",
       "      <td>United-States</td>\n",
       "      <td>&lt;=50K</td>\n",
       "    </tr>\n",
       "    <tr>\n",
       "      <th>3</th>\n",
       "      <td>53</td>\n",
       "      <td>Private</td>\n",
       "      <td>234721</td>\n",
       "      <td>11th</td>\n",
       "      <td>7</td>\n",
       "      <td>Married-civ-spouse</td>\n",
       "      <td>Handlers-cleaners</td>\n",
       "      <td>Husband</td>\n",
       "      <td>Black</td>\n",
       "      <td>Male</td>\n",
       "      <td>0</td>\n",
       "      <td>0</td>\n",
       "      <td>40</td>\n",
       "      <td>United-States</td>\n",
       "      <td>&lt;=50K</td>\n",
       "    </tr>\n",
       "    <tr>\n",
       "      <th>4</th>\n",
       "      <td>28</td>\n",
       "      <td>Private</td>\n",
       "      <td>338409</td>\n",
       "      <td>Bachelors</td>\n",
       "      <td>13</td>\n",
       "      <td>Married-civ-spouse</td>\n",
       "      <td>Prof-specialty</td>\n",
       "      <td>Wife</td>\n",
       "      <td>Black</td>\n",
       "      <td>Female</td>\n",
       "      <td>0</td>\n",
       "      <td>0</td>\n",
       "      <td>40</td>\n",
       "      <td>Cuba</td>\n",
       "      <td>&lt;=50K</td>\n",
       "    </tr>\n",
       "    <tr>\n",
       "      <th>...</th>\n",
       "      <td>...</td>\n",
       "      <td>...</td>\n",
       "      <td>...</td>\n",
       "      <td>...</td>\n",
       "      <td>...</td>\n",
       "      <td>...</td>\n",
       "      <td>...</td>\n",
       "      <td>...</td>\n",
       "      <td>...</td>\n",
       "      <td>...</td>\n",
       "      <td>...</td>\n",
       "      <td>...</td>\n",
       "      <td>...</td>\n",
       "      <td>...</td>\n",
       "      <td>...</td>\n",
       "    </tr>\n",
       "    <tr>\n",
       "      <th>32556</th>\n",
       "      <td>27</td>\n",
       "      <td>Private</td>\n",
       "      <td>257302</td>\n",
       "      <td>Assoc-acdm</td>\n",
       "      <td>12</td>\n",
       "      <td>Married-civ-spouse</td>\n",
       "      <td>Tech-support</td>\n",
       "      <td>Wife</td>\n",
       "      <td>White</td>\n",
       "      <td>Female</td>\n",
       "      <td>0</td>\n",
       "      <td>0</td>\n",
       "      <td>38</td>\n",
       "      <td>United-States</td>\n",
       "      <td>&lt;=50K</td>\n",
       "    </tr>\n",
       "    <tr>\n",
       "      <th>32557</th>\n",
       "      <td>40</td>\n",
       "      <td>Private</td>\n",
       "      <td>154374</td>\n",
       "      <td>HS-grad</td>\n",
       "      <td>9</td>\n",
       "      <td>Married-civ-spouse</td>\n",
       "      <td>Machine-op-inspct</td>\n",
       "      <td>Husband</td>\n",
       "      <td>White</td>\n",
       "      <td>Male</td>\n",
       "      <td>0</td>\n",
       "      <td>0</td>\n",
       "      <td>40</td>\n",
       "      <td>United-States</td>\n",
       "      <td>&gt;50K</td>\n",
       "    </tr>\n",
       "    <tr>\n",
       "      <th>32558</th>\n",
       "      <td>58</td>\n",
       "      <td>Private</td>\n",
       "      <td>151910</td>\n",
       "      <td>HS-grad</td>\n",
       "      <td>9</td>\n",
       "      <td>Widowed</td>\n",
       "      <td>Adm-clerical</td>\n",
       "      <td>Unmarried</td>\n",
       "      <td>White</td>\n",
       "      <td>Female</td>\n",
       "      <td>0</td>\n",
       "      <td>0</td>\n",
       "      <td>40</td>\n",
       "      <td>United-States</td>\n",
       "      <td>&lt;=50K</td>\n",
       "    </tr>\n",
       "    <tr>\n",
       "      <th>32559</th>\n",
       "      <td>22</td>\n",
       "      <td>Private</td>\n",
       "      <td>201490</td>\n",
       "      <td>HS-grad</td>\n",
       "      <td>9</td>\n",
       "      <td>Never-married</td>\n",
       "      <td>Adm-clerical</td>\n",
       "      <td>Own-child</td>\n",
       "      <td>White</td>\n",
       "      <td>Male</td>\n",
       "      <td>0</td>\n",
       "      <td>0</td>\n",
       "      <td>20</td>\n",
       "      <td>United-States</td>\n",
       "      <td>&lt;=50K</td>\n",
       "    </tr>\n",
       "    <tr>\n",
       "      <th>32560</th>\n",
       "      <td>52</td>\n",
       "      <td>Self-emp-inc</td>\n",
       "      <td>287927</td>\n",
       "      <td>HS-grad</td>\n",
       "      <td>9</td>\n",
       "      <td>Married-civ-spouse</td>\n",
       "      <td>Exec-managerial</td>\n",
       "      <td>Wife</td>\n",
       "      <td>White</td>\n",
       "      <td>Female</td>\n",
       "      <td>15024</td>\n",
       "      <td>0</td>\n",
       "      <td>40</td>\n",
       "      <td>United-States</td>\n",
       "      <td>&gt;50K</td>\n",
       "    </tr>\n",
       "  </tbody>\n",
       "</table>\n",
       "<p>32561 rows × 15 columns</p>\n",
       "</div>"
      ],
      "text/plain": [
       "       age          workclass  fnlwgt    education  education-num  \\\n",
       "0       39          State-gov   77516    Bachelors             13   \n",
       "1       50   Self-emp-not-inc   83311    Bachelors             13   \n",
       "2       38            Private  215646      HS-grad              9   \n",
       "3       53            Private  234721         11th              7   \n",
       "4       28            Private  338409    Bachelors             13   \n",
       "...    ...                ...     ...          ...            ...   \n",
       "32556   27            Private  257302   Assoc-acdm             12   \n",
       "32557   40            Private  154374      HS-grad              9   \n",
       "32558   58            Private  151910      HS-grad              9   \n",
       "32559   22            Private  201490      HS-grad              9   \n",
       "32560   52       Self-emp-inc  287927      HS-grad              9   \n",
       "\n",
       "            marital-status          occupation    relationship    race  \\\n",
       "0            Never-married        Adm-clerical   Not-in-family   White   \n",
       "1       Married-civ-spouse     Exec-managerial         Husband   White   \n",
       "2                 Divorced   Handlers-cleaners   Not-in-family   White   \n",
       "3       Married-civ-spouse   Handlers-cleaners         Husband   Black   \n",
       "4       Married-civ-spouse      Prof-specialty            Wife   Black   \n",
       "...                    ...                 ...             ...     ...   \n",
       "32556   Married-civ-spouse        Tech-support            Wife   White   \n",
       "32557   Married-civ-spouse   Machine-op-inspct         Husband   White   \n",
       "32558              Widowed        Adm-clerical       Unmarried   White   \n",
       "32559        Never-married        Adm-clerical       Own-child   White   \n",
       "32560   Married-civ-spouse     Exec-managerial            Wife   White   \n",
       "\n",
       "           sex  capital-gain  capital-loss  hours-per-week  native-country  \\\n",
       "0         Male          2174             0              40   United-States   \n",
       "1         Male             0             0              13   United-States   \n",
       "2         Male             0             0              40   United-States   \n",
       "3         Male             0             0              40   United-States   \n",
       "4       Female             0             0              40            Cuba   \n",
       "...        ...           ...           ...             ...             ...   \n",
       "32556   Female             0             0              38   United-States   \n",
       "32557     Male             0             0              40   United-States   \n",
       "32558   Female             0             0              40   United-States   \n",
       "32559     Male             0             0              20   United-States   \n",
       "32560   Female         15024             0              40   United-States   \n",
       "\n",
       "       target  \n",
       "0       <=50K  \n",
       "1       <=50K  \n",
       "2       <=50K  \n",
       "3       <=50K  \n",
       "4       <=50K  \n",
       "...       ...  \n",
       "32556   <=50K  \n",
       "32557    >50K  \n",
       "32558   <=50K  \n",
       "32559   <=50K  \n",
       "32560    >50K  \n",
       "\n",
       "[32561 rows x 15 columns]"
      ]
     },
     "execution_count": 4,
     "metadata": {},
     "output_type": "execute_result"
    }
   ],
   "source": [
    "cen_df"
   ]
  },
  {
   "cell_type": "code",
   "execution_count": 5,
   "metadata": {},
   "outputs": [
    {
     "data": {
      "text/plain": [
       "Index(['age', 'workclass', 'fnlwgt', 'education', 'education-num',\n",
       "       'marital-status', 'occupation', 'relationship', 'race', 'sex',\n",
       "       'capital-gain', 'capital-loss', 'hours-per-week', 'native-country',\n",
       "       'target'],\n",
       "      dtype='object')"
      ]
     },
     "execution_count": 5,
     "metadata": {},
     "output_type": "execute_result"
    }
   ],
   "source": [
    "cen_df.columns"
   ]
  },
  {
   "cell_type": "markdown",
   "metadata": {},
   "source": [
    "### Q1(a)\n",
    "\n",
    "**Variable Definitions**\n",
    "\n",
    "* **age**: \"age\" is the age of an individual as reported by that person for the census; the value is reported in integer units of years.\n",
    "<br>\n",
    "<br>\n",
    "* **workclass:** \"workclass\" is the class of work an individual does: Federal-gov, Local-gov, Never-worked, Private, Self-emp-inc, Self-emp-not-inc, State-gov, Without-pay. Workclass values are strings and are categorical in nature.\n",
    "<br>\n",
    "<br>\n",
    "* **fnlwgt:** \"fnlwgt\" is created when three sets of controls are raked in the weighting program 6 times. The term estimate refers to population totals derived from CPS by creating \"weighted tallies\" of any specified socio-economic characteristics of the population.\n",
    "<br>\n",
    "<br>\n",
    "* **education:** \"education\" is of string type and is categorical in nature. It is the highest level of education completed by the person and the categories are: 10th, 11th, 12th, 1st-4th, 5th-6th, 7th-8th, 9th, Assoc-acdm, Assoc-voc, Bachelors, Doctorate, HS-grad, Masters, Preschool, Prof-school, Some-college\n",
    "<br> \n",
    "<br>\n",
    "* **education-num:** \"education-num\" is the representation of education in numeric form from range 1 to 16 therefore, it is of integer type but categorical in nature.\n",
    "<br>\n",
    "<br>\n",
    "* **marital-status:** \"marital-status\" is of string type and categorical in nature. It defines the marital status of the person in the following categories: Divorced, Married-AF-spouse, Married-civ-spouse, Married-spouse-absent, Never-married, Separated, Widowed.\n",
    "<br>\n",
    "<br>\n",
    "* **occupation:** \"occupation\" is of string type and categorical in nature. It defines the occupation status of the person in the following categories: Adm-clerical, Armed-Forces, Craft-repair, Exec-managerial, Farming-fishing, Handlers-cleaners, Machine-op-inspct, Other-service, Priv-house-serv, Prof-specialty, Protective-serv, Sales, Tech-support, Transport-moving.\n",
    "<br>\n",
    "<br>\n",
    "* **relationship:** \"realtionship\" is of string type and categorical in nature. It defines the relationship type of the person in the following categories: Husband, Not-in-family, Other-relative, Own-child, Unmarried, Wife\n",
    "<br>\n",
    "<br>\n",
    "* **race:** \"race\" is of string type and categorical in nature. It defines the race of the person in following categories: Amer-Indian-Eskimo, Asian-Pac-Islander, Black, Other, White\n",
    "<br>\n",
    "<br>\n",
    "* **sex:** \"sex\" of a person is in a string format and is categorical in nature and it consists of only two categories: \"Male\" and \"Female\".\n",
    "<br>\n",
    "<br>\n",
    "* **capital-gain:** \"capital-gain\" is of integer type and defines the capital gain in dollars earned by a person in the range of 0 - 99999.\n",
    "<br>\n",
    "<br>\n",
    "* **capital-loss:** \"capital-loss\" is of integer type and defines the capital loss of a person in dollars in the range of 0 - 4356.\n",
    "<br>\n",
    "<br>\n",
    "* **hours-per-week:** \"hours-per-week\" is of integer type and defines the average number of hour working per week for a person on the range of 1 - 99.\n",
    "<br>\n",
    "<br>\n",
    "* **native-country:** \"native-country\" is of string type and categorical in nature. It defines the country a person belongs to in following categories: Cambodia, Canada, China, Columbia, Cuba, Dominican-Republic, Ecuador, El-Salvador, England, France, Germany, Greece, Guatemala, Haiti, Holand-Netherlands, Honduras, Hong, Hungary, India, Iran, Ireland, Italy, Jamaica, Japan, Laos, Mexico, Nicaragua, Outlying-US(Guam-USVI-etc), Peru, Philippines, Poland, Portugal, Puerto-Rico, Scotland, South, Taiwan, Thailand, Trinadad&Tobago, United-States, Vietnam, Yugoslavia"
   ]
  },
  {
   "cell_type": "markdown",
   "metadata": {},
   "source": [
    "### Q1(b)\n",
    "\n",
    "(i) The symbol used to represent missing data is '?'.\n",
    "<br>\n",
    "<br>\n",
    "(ii) See below"
   ]
  },
  {
   "cell_type": "code",
   "execution_count": 6,
   "metadata": {},
   "outputs": [
    {
     "name": "stdout",
     "output_type": "stream",
     "text": [
      "Percentage of missing data for age : 0.0 %\n",
      "Percentage of missing data for workclass : 5.6386 %\n",
      "Percentage of missing data for fnlwgt : 0.0 %\n",
      "Percentage of missing data for education : 0.0 %\n",
      "Percentage of missing data for education-num : 0.0 %\n",
      "Percentage of missing data for marital-status : 0.0 %\n",
      "Percentage of missing data for occupation : 5.6601 %\n",
      "Percentage of missing data for relationship : 0.0 %\n",
      "Percentage of missing data for race : 0.0 %\n",
      "Percentage of missing data for sex : 0.0 %\n",
      "Percentage of missing data for capital-gain : 0.0 %\n",
      "Percentage of missing data for capital-loss : 0.0 %\n",
      "Percentage of missing data for hours-per-week : 0.0 %\n",
      "Percentage of missing data for native-country : 1.7905 %\n",
      "Percentage of missing data for target : 0.0 %\n"
     ]
    }
   ],
   "source": [
    "for col in cen_df.columns.unique():\n",
    "    percent = len(cen_df[cen_df[col] == ' ?'])/len(cen_df[col])*100\n",
    "    print(\"Percentage of missing data for\", col, ':', round(percent, 4),'%')"
   ]
  },
  {
   "cell_type": "markdown",
   "metadata": {},
   "source": [
    "### Q1(c)\n",
    "\n",
    "* 'age' - Numeric\n",
    "* 'workclass' - Categorical\n",
    "* 'fnlwgt' - Numeric\n",
    "* 'education' - Categorical\n",
    "* 'education-num' - Numeric\n",
    "* 'marital-status' - Categorical\n",
    "* 'occupation' - Categorical\n",
    "* 'relationship' - Categorical\n",
    "* 'race' - Categorical\n",
    "* 'sex' - Categorical\n",
    "* 'capital-gain' - Numeric\n",
    "* 'capital-loss' - Numeric\n",
    "* 'hours-per-week' - Numeric\n",
    "* 'native-country' - Categorical\n",
    "* 'target' - Categorical"
   ]
  },
  {
   "cell_type": "markdown",
   "metadata": {},
   "source": [
    "### Q1.d.(i)"
   ]
  },
  {
   "cell_type": "code",
   "execution_count": 171,
   "metadata": {},
   "outputs": [
    {
     "data": {
      "text/plain": [
       "Text(0.5, 1.0, 'Distribution of hours per week')"
      ]
     },
     "execution_count": 171,
     "metadata": {},
     "output_type": "execute_result"
    },
    {
     "data": {
      "image/png": "[encoded data removed]",
      "text/plain": [
       "<Figure size 864x360 with 2 Axes>"
      ]
     },
     "metadata": {
      "needs_background": "light"
     },
     "output_type": "display_data"
    }
   ],
   "source": [
    "fig, axes = plt.subplots(1, 2, figsize=(12,5))\n",
    "sb.histplot(cen_df['age'], bins=10, alpha = 0.5, ax=axes[0]).set_title('Distribution of Age')\n",
    "sb.histplot(cen_df['hours-per-week'], bins=10, alpha = 0.5, ax=axes[1]).set_title('Distribution of hours per week')"
   ]
  },
  {
   "cell_type": "code",
   "execution_count": 59,
   "metadata": {},
   "outputs": [
    {
     "name": "stdout",
     "output_type": "stream",
     "text": [
      "Age bin values: [5570 5890 6048 6163 3967 2591 1595  496  174   67]\n",
      "Age bin edges: [17.  24.3 31.6 38.9 46.2 53.5 60.8 68.1 75.4 82.7 90. ]\n",
      "Hours per week bin values: [  736  2192  2317 17735  3119  3877  1796   448   202   139]\n",
      "Hours per week bin edges: [ 1.  10.8 20.6 30.4 40.2 50.  59.8 69.6 79.4 89.2 99. ]\n"
     ]
    }
   ],
   "source": [
    "age_bins = np.histogram(cen_df['age'], bins=10)\n",
    "values = age_bins[0]\n",
    "edges = age_bins[1]\n",
    "print('Age bin values:', values)\n",
    "print('Age bin edges:', edges)\n",
    "\n",
    "age_bins = np.histogram(cen_df['hours-per-week'], bins=10)\n",
    "values = age_bins[0]\n",
    "edges = age_bins[1]\n",
    "print('Hours per week bin values:', values)\n",
    "print('Hours per week bin edges:', edges)"
   ]
  },
  {
   "cell_type": "markdown",
   "metadata": {},
   "source": [
    "### Q1.d.(ii)"
   ]
  },
  {
   "cell_type": "code",
   "execution_count": 175,
   "metadata": {},
   "outputs": [
    {
     "data": {
      "text/plain": [
       "<seaborn.axisgrid.FacetGrid at 0x1a36cf0a10>"
      ]
     },
     "execution_count": 175,
     "metadata": {},
     "output_type": "execute_result"
    },
    {
     "data": {
      "image/png": "[encoded data removed]",
      "text/plain": [
       "<Figure size 435x360 with 1 Axes>"
      ]
     },
     "metadata": {
      "needs_background": "light"
     },
     "output_type": "display_data"
    },
    {
     "data": {
      "image/png": "[encoded data removed]",
      "text/plain": [
       "<Figure size 435x360 with 1 Axes>"
      ]
     },
     "metadata": {
      "needs_background": "light"
     },
     "output_type": "display_data"
    }
   ],
   "source": [
    "sb.displot(cen_df, x='age',  hue='target', element='step', bins =10)\n",
    "sb.displot(cen_df, x='hours-per-week',  hue='target', element='step', bins =10)                                     "
   ]
  },
  {
   "cell_type": "markdown",
   "metadata": {},
   "source": [
    "### Q1.d.(iii)"
   ]
  },
  {
   "cell_type": "code",
   "execution_count": 177,
   "metadata": {},
   "outputs": [
    {
     "data": {
      "image/png": "[encoded data removed]",
      "text/plain": [
       "<Figure size 360x360 with 1 Axes>"
      ]
     },
     "metadata": {
      "needs_background": "light"
     },
     "output_type": "display_data"
    },
    {
     "data": {
      "image/png": "[encoded data removed]",
      "text/plain": [
       "<Figure size 360x360 with 1 Axes>"
      ]
     },
     "metadata": {
      "needs_background": "light"
     },
     "output_type": "display_data"
    }
   ],
   "source": [
    "g = sb.catplot(data=cen_df, x='target', y='age', kind='box')\n",
    "g = sb.catplot(data=cen_df, x='target', y='hours-per-week', kind='box')"
   ]
  },
  {
   "cell_type": "markdown",
   "metadata": {},
   "source": [
    "### Q1.d.(iv)"
   ]
  },
  {
   "cell_type": "markdown",
   "metadata": {},
   "source": [
    "**i).** The number of observations is significantly skewed towards the left-hand side for the age i.e age =<53 which also makes sense as the general trend is to retire or at least think to retire after that time. For the number of hours worked per week the general distribution seems very normal except for the bin 31 hours - 40 hours which has almost 50% of the data values i.e proving that most people work 30-40 hours a week.\n",
    "<br>\n",
    "<br>\n",
    "**ii).** Most people earning less than 50,000 especially people less than 31 years old, which makes sense as you tend to get more experienced at your job as time passes which in turn results in higher salaries. This is also proved as people older than 31 years of age have a higher probability of earning more than 50,000 until retirement around 60 years of age, after which people earning higher salaries decrease.\n",
    "<br>\n",
    "<br>\n",
    "**iii).** It is evident from the boxplots that people earning less than or equal to 50,000 tend to be younger than people earning more than 50,000. The first, second, and third quartile are all lesser than their counterparts for people earning more than 50,000. The hours worked per week also show that people earning more than 50,000, on average, tend to work more than the people earning less than or equal to 50,000."
   ]
  },
  {
   "cell_type": "markdown",
   "metadata": {},
   "source": [
    "### Q1.e.(i)"
   ]
  },
  {
   "cell_type": "code",
   "execution_count": 104,
   "metadata": {},
   "outputs": [
    {
     "data": {
      "text/plain": [
       "<seaborn.axisgrid.FacetGrid at 0x1a2c98c750>"
      ]
     },
     "execution_count": 104,
     "metadata": {},
     "output_type": "execute_result"
    },
    {
     "data": {
      "image/png": "[encoded data removed]",
      "text/plain": [
       "<Figure size 1080x360 with 1 Axes>"
      ]
     },
     "metadata": {
      "needs_background": "light"
     },
     "output_type": "display_data"
    }
   ],
   "source": [
    "sb.catplot(data=cen_df, x='education', kind='count', height=5, aspect=3)"
   ]
  },
  {
   "cell_type": "code",
   "execution_count": 100,
   "metadata": {},
   "outputs": [
    {
     "data": {
      "text/plain": [
       "<seaborn.axisgrid.FacetGrid at 0x1a2ce5b610>"
      ]
     },
     "execution_count": 100,
     "metadata": {},
     "output_type": "execute_result"
    },
    {
     "data": {
      "image/png": "[encoded data removed]",
      "text/plain": [
       "<Figure size 720x360 with 1 Axes>"
      ]
     },
     "metadata": {
      "needs_background": "light"
     },
     "output_type": "display_data"
    }
   ],
   "source": [
    "sb.catplot(data=cen_df, x='marital-status', kind='count', height=5, aspect=2)"
   ]
  },
  {
   "cell_type": "markdown",
   "metadata": {},
   "source": [
    "### Q1.e.(ii)"
   ]
  },
  {
   "cell_type": "code",
   "execution_count": 115,
   "metadata": {},
   "outputs": [
    {
     "data": {
      "text/plain": [
       "<seaborn.axisgrid.FacetGrid at 0x1a2d5d4710>"
      ]
     },
     "execution_count": 115,
     "metadata": {},
     "output_type": "execute_result"
    },
    {
     "data": {
      "image/png": "[encoded data removed]",
      "text/plain": [
       "<Figure size 1371x432 with 1 Axes>"
      ]
     },
     "metadata": {
      "needs_background": "light"
     },
     "output_type": "display_data"
    }
   ],
   "source": [
    "sb.catplot(data=cen_df, x='education', kind='count', hue='target', height=6, aspect=3)"
   ]
  },
  {
   "cell_type": "code",
   "execution_count": 111,
   "metadata": {},
   "outputs": [
    {
     "data": {
      "text/plain": [
       "<seaborn.axisgrid.FacetGrid at 0x1a2c09ca10>"
      ]
     },
     "execution_count": 111,
     "metadata": {},
     "output_type": "execute_result"
    },
    {
     "data": {
      "image/png": "[encoded data removed]",
      "text/plain": [
       "<Figure size 795x360 with 1 Axes>"
      ]
     },
     "metadata": {
      "needs_background": "light"
     },
     "output_type": "display_data"
    }
   ],
   "source": [
    "sb.catplot(data=cen_df, x='marital-status', kind='count', hue='target', height=5, aspect=2)"
   ]
  },
  {
   "cell_type": "markdown",
   "metadata": {},
   "source": [
    "### Q1.e.(iii)"
   ]
  },
  {
   "cell_type": "markdown",
   "metadata": {},
   "source": [
    "**i).** The first graph represents the distribution of the number of people for different education levels, the top three categories have the bulk of the data; HS-Grad, Some-College, and Bachelors respectively. Lesser people have higher education. The second graph represents the distribution of people for different marital statuses, the top three categories here have more than 75% of data; Married-civ-spouse, never-married, and Divorced respectively.\n",
    "<br>\n",
    "<br>\n",
    "**ii).** The second set of graphs represents income levels with respect to education level and marital status. For income with respect to education, it is evident that higher education leads to a better probability of a higher income as the individuals earning lesser than 50,000 exceed the number of individuals earning more than 50,000 but this trend reverses after completing master's. As for income levels with respect to marital status, most of the never-married individuals earn less than 50,000, and then married-civ-spouse have the highest number of high-income earners. Both these observations make sense as never-married people tend to be younger and we have seen younger people earn lesser and Married people tend to be older which coincides with them making a higher income\n",
    "\n"
   ]
  },
  {
   "cell_type": "markdown",
   "metadata": {
    "id": "b0NGUESFSnKG"
   },
   "source": [
    "# Q2\n"
   ]
  },
  {
   "cell_type": "code",
   "execution_count": 116,
   "metadata": {
    "id": "H_FtRBmwSpW_"
   },
   "outputs": [],
   "source": [
    "nfl_data = pd.read_csv('P1-data/nfl-20-running-stats.csv')"
   ]
  },
  {
   "cell_type": "code",
   "execution_count": 117,
   "metadata": {},
   "outputs": [
    {
     "data": {
      "text/html": [
       "<div>\n",
       "<style scoped>\n",
       "    .dataframe tbody tr th:only-of-type {\n",
       "        vertical-align: middle;\n",
       "    }\n",
       "\n",
       "    .dataframe tbody tr th {\n",
       "        vertical-align: top;\n",
       "    }\n",
       "\n",
       "    .dataframe thead th {\n",
       "        text-align: right;\n",
       "    }\n",
       "</style>\n",
       "<table border=\"1\" class=\"dataframe\">\n",
       "  <thead>\n",
       "    <tr style=\"text-align: right;\">\n",
       "      <th></th>\n",
       "      <th>Rk</th>\n",
       "      <th>Player</th>\n",
       "      <th>Tm</th>\n",
       "      <th>Age</th>\n",
       "      <th>Pos</th>\n",
       "      <th>G</th>\n",
       "      <th>GS</th>\n",
       "      <th>Att</th>\n",
       "      <th>Yds</th>\n",
       "      <th>TD</th>\n",
       "      <th>1D</th>\n",
       "      <th>Lng</th>\n",
       "      <th>Y/A</th>\n",
       "      <th>Y/G</th>\n",
       "      <th>Fmb</th>\n",
       "    </tr>\n",
       "  </thead>\n",
       "  <tbody>\n",
       "    <tr>\n",
       "      <th>0</th>\n",
       "      <td>1</td>\n",
       "      <td>Derrick Henry *\\HenrDe00</td>\n",
       "      <td>TEN</td>\n",
       "      <td>26</td>\n",
       "      <td>RB</td>\n",
       "      <td>16</td>\n",
       "      <td>16</td>\n",
       "      <td>378</td>\n",
       "      <td>2027</td>\n",
       "      <td>17</td>\n",
       "      <td>98</td>\n",
       "      <td>94</td>\n",
       "      <td>5.4</td>\n",
       "      <td>126.7</td>\n",
       "      <td>3</td>\n",
       "    </tr>\n",
       "    <tr>\n",
       "      <th>1</th>\n",
       "      <td>2</td>\n",
       "      <td>Dalvin Cook*\\CookDa01</td>\n",
       "      <td>MIN</td>\n",
       "      <td>25</td>\n",
       "      <td>RB</td>\n",
       "      <td>14</td>\n",
       "      <td>14</td>\n",
       "      <td>312</td>\n",
       "      <td>1557</td>\n",
       "      <td>16</td>\n",
       "      <td>91</td>\n",
       "      <td>70</td>\n",
       "      <td>5.0</td>\n",
       "      <td>111.2</td>\n",
       "      <td>5</td>\n",
       "    </tr>\n",
       "    <tr>\n",
       "      <th>2</th>\n",
       "      <td>3</td>\n",
       "      <td>Josh Jacobs*\\JacoJo01</td>\n",
       "      <td>LVR</td>\n",
       "      <td>22</td>\n",
       "      <td>RB</td>\n",
       "      <td>15</td>\n",
       "      <td>15</td>\n",
       "      <td>273</td>\n",
       "      <td>1065</td>\n",
       "      <td>12</td>\n",
       "      <td>61</td>\n",
       "      <td>28</td>\n",
       "      <td>3.9</td>\n",
       "      <td>71.0</td>\n",
       "      <td>2</td>\n",
       "    </tr>\n",
       "    <tr>\n",
       "      <th>3</th>\n",
       "      <td>4</td>\n",
       "      <td>David Montgomery\\MontDa01</td>\n",
       "      <td>CHI</td>\n",
       "      <td>23</td>\n",
       "      <td>RB</td>\n",
       "      <td>15</td>\n",
       "      <td>14</td>\n",
       "      <td>247</td>\n",
       "      <td>1070</td>\n",
       "      <td>8</td>\n",
       "      <td>59</td>\n",
       "      <td>80</td>\n",
       "      <td>4.3</td>\n",
       "      <td>71.3</td>\n",
       "      <td>1</td>\n",
       "    </tr>\n",
       "    <tr>\n",
       "      <th>4</th>\n",
       "      <td>5</td>\n",
       "      <td>Ezekiel Elliott\\ElliEz00</td>\n",
       "      <td>DAL</td>\n",
       "      <td>25</td>\n",
       "      <td>RB</td>\n",
       "      <td>15</td>\n",
       "      <td>15</td>\n",
       "      <td>244</td>\n",
       "      <td>979</td>\n",
       "      <td>6</td>\n",
       "      <td>62</td>\n",
       "      <td>31</td>\n",
       "      <td>4.0</td>\n",
       "      <td>65.3</td>\n",
       "      <td>6</td>\n",
       "    </tr>\n",
       "    <tr>\n",
       "      <th>...</th>\n",
       "      <td>...</td>\n",
       "      <td>...</td>\n",
       "      <td>...</td>\n",
       "      <td>...</td>\n",
       "      <td>...</td>\n",
       "      <td>...</td>\n",
       "      <td>...</td>\n",
       "      <td>...</td>\n",
       "      <td>...</td>\n",
       "      <td>...</td>\n",
       "      <td>...</td>\n",
       "      <td>...</td>\n",
       "      <td>...</td>\n",
       "      <td>...</td>\n",
       "      <td>...</td>\n",
       "    </tr>\n",
       "    <tr>\n",
       "      <th>367</th>\n",
       "      <td>368</td>\n",
       "      <td>Jonathan Williams\\WillJo07</td>\n",
       "      <td>DET</td>\n",
       "      <td>26</td>\n",
       "      <td>NaN</td>\n",
       "      <td>5</td>\n",
       "      <td>0</td>\n",
       "      <td>1</td>\n",
       "      <td>5</td>\n",
       "      <td>0</td>\n",
       "      <td>0</td>\n",
       "      <td>5</td>\n",
       "      <td>5.0</td>\n",
       "      <td>1.0</td>\n",
       "      <td>1</td>\n",
       "    </tr>\n",
       "    <tr>\n",
       "      <th>368</th>\n",
       "      <td>369</td>\n",
       "      <td>Mike Williams\\WillMi07</td>\n",
       "      <td>LAC</td>\n",
       "      <td>26</td>\n",
       "      <td>WR</td>\n",
       "      <td>15</td>\n",
       "      <td>11</td>\n",
       "      <td>1</td>\n",
       "      <td>1</td>\n",
       "      <td>0</td>\n",
       "      <td>0</td>\n",
       "      <td>1</td>\n",
       "      <td>1.0</td>\n",
       "      <td>0.1</td>\n",
       "      <td>0</td>\n",
       "    </tr>\n",
       "    <tr>\n",
       "      <th>369</th>\n",
       "      <td>370</td>\n",
       "      <td>Javon Wims\\WimsJa00</td>\n",
       "      <td>CHI</td>\n",
       "      <td>26</td>\n",
       "      <td>wr</td>\n",
       "      <td>13</td>\n",
       "      <td>1</td>\n",
       "      <td>1</td>\n",
       "      <td>2</td>\n",
       "      <td>0</td>\n",
       "      <td>0</td>\n",
       "      <td>2</td>\n",
       "      <td>2.0</td>\n",
       "      <td>0.2</td>\n",
       "      <td>0</td>\n",
       "    </tr>\n",
       "    <tr>\n",
       "      <th>370</th>\n",
       "      <td>371</td>\n",
       "      <td>Olamide Zaccheaus\\ZaccOl01</td>\n",
       "      <td>ATL</td>\n",
       "      <td>23</td>\n",
       "      <td>wr</td>\n",
       "      <td>11</td>\n",
       "      <td>2</td>\n",
       "      <td>1</td>\n",
       "      <td>0</td>\n",
       "      <td>0</td>\n",
       "      <td>0</td>\n",
       "      <td>0</td>\n",
       "      <td>0.0</td>\n",
       "      <td>0.0</td>\n",
       "      <td>0</td>\n",
       "    </tr>\n",
       "    <tr>\n",
       "      <th>371</th>\n",
       "      <td>372</td>\n",
       "      <td>Brandon Zylstra\\ZylsBr00</td>\n",
       "      <td>CAR</td>\n",
       "      <td>27</td>\n",
       "      <td>wr</td>\n",
       "      <td>16</td>\n",
       "      <td>2</td>\n",
       "      <td>1</td>\n",
       "      <td>1</td>\n",
       "      <td>0</td>\n",
       "      <td>0</td>\n",
       "      <td>1</td>\n",
       "      <td>1.0</td>\n",
       "      <td>0.1</td>\n",
       "      <td>0</td>\n",
       "    </tr>\n",
       "  </tbody>\n",
       "</table>\n",
       "<p>372 rows × 15 columns</p>\n",
       "</div>"
      ],
      "text/plain": [
       "      Rk                      Player   Tm  Age  Pos   G  GS  Att   Yds  TD  \\\n",
       "0      1    Derrick Henry *\\HenrDe00  TEN   26   RB  16  16  378  2027  17   \n",
       "1      2       Dalvin Cook*\\CookDa01  MIN   25   RB  14  14  312  1557  16   \n",
       "2      3       Josh Jacobs*\\JacoJo01  LVR   22   RB  15  15  273  1065  12   \n",
       "3      4   David Montgomery\\MontDa01  CHI   23   RB  15  14  247  1070   8   \n",
       "4      5    Ezekiel Elliott\\ElliEz00  DAL   25   RB  15  15  244   979   6   \n",
       "..   ...                         ...  ...  ...  ...  ..  ..  ...   ...  ..   \n",
       "367  368  Jonathan Williams\\WillJo07  DET   26  NaN   5   0    1     5   0   \n",
       "368  369      Mike Williams\\WillMi07  LAC   26   WR  15  11    1     1   0   \n",
       "369  370         Javon Wims\\WimsJa00  CHI   26   wr  13   1    1     2   0   \n",
       "370  371  Olamide Zaccheaus\\ZaccOl01  ATL   23   wr  11   2    1     0   0   \n",
       "371  372    Brandon Zylstra\\ZylsBr00  CAR   27   wr  16   2    1     1   0   \n",
       "\n",
       "     1D  Lng  Y/A    Y/G  Fmb  \n",
       "0    98   94  5.4  126.7    3  \n",
       "1    91   70  5.0  111.2    5  \n",
       "2    61   28  3.9   71.0    2  \n",
       "3    59   80  4.3   71.3    1  \n",
       "4    62   31  4.0   65.3    6  \n",
       "..   ..  ...  ...    ...  ...  \n",
       "367   0    5  5.0    1.0    1  \n",
       "368   0    1  1.0    0.1    0  \n",
       "369   0    2  2.0    0.2    0  \n",
       "370   0    0  0.0    0.0    0  \n",
       "371   0    1  1.0    0.1    0  \n",
       "\n",
       "[372 rows x 15 columns]"
      ]
     },
     "execution_count": 117,
     "metadata": {},
     "output_type": "execute_result"
    }
   ],
   "source": [
    "nfl_data"
   ]
  },
  {
   "cell_type": "code",
   "execution_count": 141,
   "metadata": {},
   "outputs": [],
   "source": [
    "df1 = nfl_data[((nfl_data['Pos'] == 'RB')|(nfl_data['Pos'] == 'rb')|(nfl_data['Pos'] == 'FB')|(nfl_data['Pos'] == 'fb'))&(nfl_data['G'] >=6)]"
   ]
  },
  {
   "cell_type": "code",
   "execution_count": 142,
   "metadata": {},
   "outputs": [
    {
     "data": {
      "text/html": [
       "<div>\n",
       "<style scoped>\n",
       "    .dataframe tbody tr th:only-of-type {\n",
       "        vertical-align: middle;\n",
       "    }\n",
       "\n",
       "    .dataframe tbody tr th {\n",
       "        vertical-align: top;\n",
       "    }\n",
       "\n",
       "    .dataframe thead th {\n",
       "        text-align: right;\n",
       "    }\n",
       "</style>\n",
       "<table border=\"1\" class=\"dataframe\">\n",
       "  <thead>\n",
       "    <tr style=\"text-align: right;\">\n",
       "      <th></th>\n",
       "      <th>Rk</th>\n",
       "      <th>Player</th>\n",
       "      <th>Tm</th>\n",
       "      <th>Age</th>\n",
       "      <th>Pos</th>\n",
       "      <th>G</th>\n",
       "      <th>GS</th>\n",
       "      <th>Att</th>\n",
       "      <th>Yds</th>\n",
       "      <th>TD</th>\n",
       "      <th>1D</th>\n",
       "      <th>Lng</th>\n",
       "      <th>Y/A</th>\n",
       "      <th>Y/G</th>\n",
       "      <th>Fmb</th>\n",
       "    </tr>\n",
       "  </thead>\n",
       "  <tbody>\n",
       "    <tr>\n",
       "      <th>0</th>\n",
       "      <td>1</td>\n",
       "      <td>Derrick Henry *\\HenrDe00</td>\n",
       "      <td>TEN</td>\n",
       "      <td>26</td>\n",
       "      <td>RB</td>\n",
       "      <td>16</td>\n",
       "      <td>16</td>\n",
       "      <td>378</td>\n",
       "      <td>2027</td>\n",
       "      <td>17</td>\n",
       "      <td>98</td>\n",
       "      <td>94</td>\n",
       "      <td>5.4</td>\n",
       "      <td>126.7</td>\n",
       "      <td>3</td>\n",
       "    </tr>\n",
       "    <tr>\n",
       "      <th>1</th>\n",
       "      <td>2</td>\n",
       "      <td>Dalvin Cook*\\CookDa01</td>\n",
       "      <td>MIN</td>\n",
       "      <td>25</td>\n",
       "      <td>RB</td>\n",
       "      <td>14</td>\n",
       "      <td>14</td>\n",
       "      <td>312</td>\n",
       "      <td>1557</td>\n",
       "      <td>16</td>\n",
       "      <td>91</td>\n",
       "      <td>70</td>\n",
       "      <td>5.0</td>\n",
       "      <td>111.2</td>\n",
       "      <td>5</td>\n",
       "    </tr>\n",
       "    <tr>\n",
       "      <th>2</th>\n",
       "      <td>3</td>\n",
       "      <td>Josh Jacobs*\\JacoJo01</td>\n",
       "      <td>LVR</td>\n",
       "      <td>22</td>\n",
       "      <td>RB</td>\n",
       "      <td>15</td>\n",
       "      <td>15</td>\n",
       "      <td>273</td>\n",
       "      <td>1065</td>\n",
       "      <td>12</td>\n",
       "      <td>61</td>\n",
       "      <td>28</td>\n",
       "      <td>3.9</td>\n",
       "      <td>71.0</td>\n",
       "      <td>2</td>\n",
       "    </tr>\n",
       "    <tr>\n",
       "      <th>3</th>\n",
       "      <td>4</td>\n",
       "      <td>David Montgomery\\MontDa01</td>\n",
       "      <td>CHI</td>\n",
       "      <td>23</td>\n",
       "      <td>RB</td>\n",
       "      <td>15</td>\n",
       "      <td>14</td>\n",
       "      <td>247</td>\n",
       "      <td>1070</td>\n",
       "      <td>8</td>\n",
       "      <td>59</td>\n",
       "      <td>80</td>\n",
       "      <td>4.3</td>\n",
       "      <td>71.3</td>\n",
       "      <td>1</td>\n",
       "    </tr>\n",
       "    <tr>\n",
       "      <th>4</th>\n",
       "      <td>5</td>\n",
       "      <td>Ezekiel Elliott\\ElliEz00</td>\n",
       "      <td>DAL</td>\n",
       "      <td>25</td>\n",
       "      <td>RB</td>\n",
       "      <td>15</td>\n",
       "      <td>15</td>\n",
       "      <td>244</td>\n",
       "      <td>979</td>\n",
       "      <td>6</td>\n",
       "      <td>62</td>\n",
       "      <td>31</td>\n",
       "      <td>4.0</td>\n",
       "      <td>65.3</td>\n",
       "      <td>6</td>\n",
       "    </tr>\n",
       "    <tr>\n",
       "      <th>...</th>\n",
       "      <td>...</td>\n",
       "      <td>...</td>\n",
       "      <td>...</td>\n",
       "      <td>...</td>\n",
       "      <td>...</td>\n",
       "      <td>...</td>\n",
       "      <td>...</td>\n",
       "      <td>...</td>\n",
       "      <td>...</td>\n",
       "      <td>...</td>\n",
       "      <td>...</td>\n",
       "      <td>...</td>\n",
       "      <td>...</td>\n",
       "      <td>...</td>\n",
       "      <td>...</td>\n",
       "    </tr>\n",
       "    <tr>\n",
       "      <th>251</th>\n",
       "      <td>252</td>\n",
       "      <td>Malcolm Perry\\PerrMa00</td>\n",
       "      <td>MIA</td>\n",
       "      <td>23</td>\n",
       "      <td>rb</td>\n",
       "      <td>9</td>\n",
       "      <td>2</td>\n",
       "      <td>3</td>\n",
       "      <td>5</td>\n",
       "      <td>0</td>\n",
       "      <td>1</td>\n",
       "      <td>6</td>\n",
       "      <td>1.7</td>\n",
       "      <td>0.6</td>\n",
       "      <td>1</td>\n",
       "    </tr>\n",
       "    <tr>\n",
       "      <th>254</th>\n",
       "      <td>255</td>\n",
       "      <td>Anthony Sherman\\SherAn00</td>\n",
       "      <td>KAN</td>\n",
       "      <td>32</td>\n",
       "      <td>rb</td>\n",
       "      <td>13</td>\n",
       "      <td>1</td>\n",
       "      <td>3</td>\n",
       "      <td>8</td>\n",
       "      <td>0</td>\n",
       "      <td>2</td>\n",
       "      <td>6</td>\n",
       "      <td>2.7</td>\n",
       "      <td>0.6</td>\n",
       "      <td>0</td>\n",
       "    </tr>\n",
       "    <tr>\n",
       "      <th>276</th>\n",
       "      <td>277</td>\n",
       "      <td>Andy Janovich\\JanoAn00</td>\n",
       "      <td>CLE</td>\n",
       "      <td>27</td>\n",
       "      <td>fb</td>\n",
       "      <td>14</td>\n",
       "      <td>3</td>\n",
       "      <td>2</td>\n",
       "      <td>4</td>\n",
       "      <td>0</td>\n",
       "      <td>1</td>\n",
       "      <td>2</td>\n",
       "      <td>2.0</td>\n",
       "      <td>0.3</td>\n",
       "      <td>0</td>\n",
       "    </tr>\n",
       "    <tr>\n",
       "      <th>285</th>\n",
       "      <td>286</td>\n",
       "      <td>Gabe Nabers\\NabeGa00</td>\n",
       "      <td>LAC</td>\n",
       "      <td>23</td>\n",
       "      <td>rb</td>\n",
       "      <td>16</td>\n",
       "      <td>5</td>\n",
       "      <td>2</td>\n",
       "      <td>7</td>\n",
       "      <td>0</td>\n",
       "      <td>1</td>\n",
       "      <td>4</td>\n",
       "      <td>3.5</td>\n",
       "      <td>0.4</td>\n",
       "      <td>0</td>\n",
       "    </tr>\n",
       "    <tr>\n",
       "      <th>349</th>\n",
       "      <td>350</td>\n",
       "      <td>Patrick Ricard*\\RicaPa00</td>\n",
       "      <td>BAL</td>\n",
       "      <td>26</td>\n",
       "      <td>FB</td>\n",
       "      <td>15</td>\n",
       "      <td>10</td>\n",
       "      <td>1</td>\n",
       "      <td>-1</td>\n",
       "      <td>0</td>\n",
       "      <td>0</td>\n",
       "      <td>-1</td>\n",
       "      <td>-1.0</td>\n",
       "      <td>-0.1</td>\n",
       "      <td>1</td>\n",
       "    </tr>\n",
       "  </tbody>\n",
       "</table>\n",
       "<p>80 rows × 15 columns</p>\n",
       "</div>"
      ],
      "text/plain": [
       "      Rk                     Player   Tm  Age Pos   G  GS  Att   Yds  TD  1D  \\\n",
       "0      1   Derrick Henry *\\HenrDe00  TEN   26  RB  16  16  378  2027  17  98   \n",
       "1      2      Dalvin Cook*\\CookDa01  MIN   25  RB  14  14  312  1557  16  91   \n",
       "2      3      Josh Jacobs*\\JacoJo01  LVR   22  RB  15  15  273  1065  12  61   \n",
       "3      4  David Montgomery\\MontDa01  CHI   23  RB  15  14  247  1070   8  59   \n",
       "4      5   Ezekiel Elliott\\ElliEz00  DAL   25  RB  15  15  244   979   6  62   \n",
       "..   ...                        ...  ...  ...  ..  ..  ..  ...   ...  ..  ..   \n",
       "251  252     Malcolm Perry\\PerrMa00  MIA   23  rb   9   2    3     5   0   1   \n",
       "254  255   Anthony Sherman\\SherAn00  KAN   32  rb  13   1    3     8   0   2   \n",
       "276  277     Andy Janovich\\JanoAn00  CLE   27  fb  14   3    2     4   0   1   \n",
       "285  286       Gabe Nabers\\NabeGa00  LAC   23  rb  16   5    2     7   0   1   \n",
       "349  350   Patrick Ricard*\\RicaPa00  BAL   26  FB  15  10    1    -1   0   0   \n",
       "\n",
       "     Lng  Y/A    Y/G  Fmb  \n",
       "0     94  5.4  126.7    3  \n",
       "1     70  5.0  111.2    5  \n",
       "2     28  3.9   71.0    2  \n",
       "3     80  4.3   71.3    1  \n",
       "4     31  4.0   65.3    6  \n",
       "..   ...  ...    ...  ...  \n",
       "251    6  1.7    0.6    1  \n",
       "254    6  2.7    0.6    0  \n",
       "276    2  2.0    0.3    0  \n",
       "285    4  3.5    0.4    0  \n",
       "349   -1 -1.0   -0.1    1  \n",
       "\n",
       "[80 rows x 15 columns]"
      ]
     },
     "execution_count": 142,
     "metadata": {},
     "output_type": "execute_result"
    }
   ],
   "source": [
    "df1"
   ]
  },
  {
   "cell_type": "markdown",
   "metadata": {},
   "source": [
    "### Q2.a"
   ]
  },
  {
   "cell_type": "markdown",
   "metadata": {},
   "source": [
    "(a) The size of pool of players is: 80"
   ]
  },
  {
   "cell_type": "markdown",
   "metadata": {},
   "source": [
    "### Q2.b"
   ]
  },
  {
   "cell_type": "code",
   "execution_count": 149,
   "metadata": {},
   "outputs": [
    {
     "name": "stdout",
     "output_type": "stream",
     "text": [
      "TD mean is: 4.1125 TD median is: 3.0 TD mode is: 0\n",
      "Fmb mean is: 1.1875 Fmb median is: 1.0 Fmb mode is: 0\n"
     ]
    }
   ],
   "source": [
    "print('TD mean is:', df1['TD'].mean(), 'TD median is:', df1['TD'].median(),'TD mode is:', df1['TD'].mode()[0])\n",
    "print('Fmb mean is:', df1['Fmb'].mean(), 'Fmb median is:', df1['Fmb'].median(),'Fmb mode is:', df1['Fmb'].mode()[0])"
   ]
  },
  {
   "cell_type": "markdown",
   "metadata": {},
   "source": [
    "### Q2.c"
   ]
  },
  {
   "cell_type": "code",
   "execution_count": 153,
   "metadata": {},
   "outputs": [
    {
     "name": "stdout",
     "output_type": "stream",
     "text": [
      "The first, third and 37th percentile for Yds is 221.5, 698.5 and 367.23 respectively\n",
      "The first, third and 37th percentile for 1D is 11.75, 40.0 and 19.23 respectively\n"
     ]
    }
   ],
   "source": [
    "print(\"The first, third and 37th percentile for Yds is {}, {} and {} respectively\".format(df1['Yds'].quantile(.25), df1['Yds'].quantile(.75), df1['Yds'].quantile(.37)))\n",
    "print(\"The first, third and 37th percentile for 1D is {}, {} and {} respectively\".format(df1['1D'].quantile(.25), df1['1D'].quantile(.75), df1['1D'].quantile(.37)))"
   ]
  },
  {
   "cell_type": "markdown",
   "metadata": {},
   "source": [
    "### Q2.d"
   ]
  },
  {
   "cell_type": "code",
   "execution_count": 161,
   "metadata": {},
   "outputs": [
    {
     "name": "stdout",
     "output_type": "stream",
     "text": [
      "Five point summary of Y/G: [-0.1, 18.3, 38.95, 57.0, 126.7]\n",
      "Five point summary of Lng: [-1, 16.5, 34.0, 51.75, 98]\n"
     ]
    }
   ],
   "source": [
    "print('Five point summary of Y/G:', [df1['Y/G'].min(), df1['Y/G'].quantile(0.25), df1['Y/G'].quantile(0.50), round(df1['Y/G'].quantile(0.75), 2), df1['Y/G'].max()])\n",
    "print('Five point summary of Lng:', [df1['Lng'].min(), df1['Lng'].quantile(0.25), df1['Lng'].quantile(0.50), round(df1['Lng'].quantile(0.75), 2), df1['Lng'].max()])"
   ]
  },
  {
   "cell_type": "markdown",
   "metadata": {},
   "source": [
    "### Q2.e"
   ]
  },
  {
   "cell_type": "code",
   "execution_count": 162,
   "metadata": {},
   "outputs": [
    {
     "name": "stderr",
     "output_type": "stream",
     "text": [
      "/anaconda3/lib/python3.7/site-packages/ipykernel_launcher.py:1: SettingWithCopyWarning: \n",
      "A value is trying to be set on a copy of a slice from a DataFrame.\n",
      "Try using .loc[row_indexer,col_indexer] = value instead\n",
      "\n",
      "See the caveats in the documentation: https://pandas.pydata.org/pandas-docs/stable/user_guide/indexing.html#returning-a-view-versus-a-copy\n",
      "  \"\"\"Entry point for launching an IPython kernel.\n"
     ]
    }
   ],
   "source": [
    "df1['target'] = df1['TD'].apply(lambda x: '< 5' if x<5 else '>=5')"
   ]
  },
  {
   "cell_type": "code",
   "execution_count": 163,
   "metadata": {},
   "outputs": [
    {
     "data": {
      "text/html": [
       "<div>\n",
       "<style scoped>\n",
       "    .dataframe tbody tr th:only-of-type {\n",
       "        vertical-align: middle;\n",
       "    }\n",
       "\n",
       "    .dataframe tbody tr th {\n",
       "        vertical-align: top;\n",
       "    }\n",
       "\n",
       "    .dataframe thead th {\n",
       "        text-align: right;\n",
       "    }\n",
       "</style>\n",
       "<table border=\"1\" class=\"dataframe\">\n",
       "  <thead>\n",
       "    <tr style=\"text-align: right;\">\n",
       "      <th></th>\n",
       "      <th>Rk</th>\n",
       "      <th>Player</th>\n",
       "      <th>Tm</th>\n",
       "      <th>Age</th>\n",
       "      <th>Pos</th>\n",
       "      <th>G</th>\n",
       "      <th>GS</th>\n",
       "      <th>Att</th>\n",
       "      <th>Yds</th>\n",
       "      <th>TD</th>\n",
       "      <th>1D</th>\n",
       "      <th>Lng</th>\n",
       "      <th>Y/A</th>\n",
       "      <th>Y/G</th>\n",
       "      <th>Fmb</th>\n",
       "      <th>target</th>\n",
       "    </tr>\n",
       "  </thead>\n",
       "  <tbody>\n",
       "    <tr>\n",
       "      <th>0</th>\n",
       "      <td>1</td>\n",
       "      <td>Derrick Henry *\\HenrDe00</td>\n",
       "      <td>TEN</td>\n",
       "      <td>26</td>\n",
       "      <td>RB</td>\n",
       "      <td>16</td>\n",
       "      <td>16</td>\n",
       "      <td>378</td>\n",
       "      <td>2027</td>\n",
       "      <td>17</td>\n",
       "      <td>98</td>\n",
       "      <td>94</td>\n",
       "      <td>5.4</td>\n",
       "      <td>126.7</td>\n",
       "      <td>3</td>\n",
       "      <td>&gt;=5</td>\n",
       "    </tr>\n",
       "    <tr>\n",
       "      <th>1</th>\n",
       "      <td>2</td>\n",
       "      <td>Dalvin Cook*\\CookDa01</td>\n",
       "      <td>MIN</td>\n",
       "      <td>25</td>\n",
       "      <td>RB</td>\n",
       "      <td>14</td>\n",
       "      <td>14</td>\n",
       "      <td>312</td>\n",
       "      <td>1557</td>\n",
       "      <td>16</td>\n",
       "      <td>91</td>\n",
       "      <td>70</td>\n",
       "      <td>5.0</td>\n",
       "      <td>111.2</td>\n",
       "      <td>5</td>\n",
       "      <td>&gt;=5</td>\n",
       "    </tr>\n",
       "    <tr>\n",
       "      <th>2</th>\n",
       "      <td>3</td>\n",
       "      <td>Josh Jacobs*\\JacoJo01</td>\n",
       "      <td>LVR</td>\n",
       "      <td>22</td>\n",
       "      <td>RB</td>\n",
       "      <td>15</td>\n",
       "      <td>15</td>\n",
       "      <td>273</td>\n",
       "      <td>1065</td>\n",
       "      <td>12</td>\n",
       "      <td>61</td>\n",
       "      <td>28</td>\n",
       "      <td>3.9</td>\n",
       "      <td>71.0</td>\n",
       "      <td>2</td>\n",
       "      <td>&gt;=5</td>\n",
       "    </tr>\n",
       "    <tr>\n",
       "      <th>3</th>\n",
       "      <td>4</td>\n",
       "      <td>David Montgomery\\MontDa01</td>\n",
       "      <td>CHI</td>\n",
       "      <td>23</td>\n",
       "      <td>RB</td>\n",
       "      <td>15</td>\n",
       "      <td>14</td>\n",
       "      <td>247</td>\n",
       "      <td>1070</td>\n",
       "      <td>8</td>\n",
       "      <td>59</td>\n",
       "      <td>80</td>\n",
       "      <td>4.3</td>\n",
       "      <td>71.3</td>\n",
       "      <td>1</td>\n",
       "      <td>&gt;=5</td>\n",
       "    </tr>\n",
       "    <tr>\n",
       "      <th>4</th>\n",
       "      <td>5</td>\n",
       "      <td>Ezekiel Elliott\\ElliEz00</td>\n",
       "      <td>DAL</td>\n",
       "      <td>25</td>\n",
       "      <td>RB</td>\n",
       "      <td>15</td>\n",
       "      <td>15</td>\n",
       "      <td>244</td>\n",
       "      <td>979</td>\n",
       "      <td>6</td>\n",
       "      <td>62</td>\n",
       "      <td>31</td>\n",
       "      <td>4.0</td>\n",
       "      <td>65.3</td>\n",
       "      <td>6</td>\n",
       "      <td>&gt;=5</td>\n",
       "    </tr>\n",
       "    <tr>\n",
       "      <th>...</th>\n",
       "      <td>...</td>\n",
       "      <td>...</td>\n",
       "      <td>...</td>\n",
       "      <td>...</td>\n",
       "      <td>...</td>\n",
       "      <td>...</td>\n",
       "      <td>...</td>\n",
       "      <td>...</td>\n",
       "      <td>...</td>\n",
       "      <td>...</td>\n",
       "      <td>...</td>\n",
       "      <td>...</td>\n",
       "      <td>...</td>\n",
       "      <td>...</td>\n",
       "      <td>...</td>\n",
       "      <td>...</td>\n",
       "    </tr>\n",
       "    <tr>\n",
       "      <th>251</th>\n",
       "      <td>252</td>\n",
       "      <td>Malcolm Perry\\PerrMa00</td>\n",
       "      <td>MIA</td>\n",
       "      <td>23</td>\n",
       "      <td>rb</td>\n",
       "      <td>9</td>\n",
       "      <td>2</td>\n",
       "      <td>3</td>\n",
       "      <td>5</td>\n",
       "      <td>0</td>\n",
       "      <td>1</td>\n",
       "      <td>6</td>\n",
       "      <td>1.7</td>\n",
       "      <td>0.6</td>\n",
       "      <td>1</td>\n",
       "      <td>&lt; 5</td>\n",
       "    </tr>\n",
       "    <tr>\n",
       "      <th>254</th>\n",
       "      <td>255</td>\n",
       "      <td>Anthony Sherman\\SherAn00</td>\n",
       "      <td>KAN</td>\n",
       "      <td>32</td>\n",
       "      <td>rb</td>\n",
       "      <td>13</td>\n",
       "      <td>1</td>\n",
       "      <td>3</td>\n",
       "      <td>8</td>\n",
       "      <td>0</td>\n",
       "      <td>2</td>\n",
       "      <td>6</td>\n",
       "      <td>2.7</td>\n",
       "      <td>0.6</td>\n",
       "      <td>0</td>\n",
       "      <td>&lt; 5</td>\n",
       "    </tr>\n",
       "    <tr>\n",
       "      <th>276</th>\n",
       "      <td>277</td>\n",
       "      <td>Andy Janovich\\JanoAn00</td>\n",
       "      <td>CLE</td>\n",
       "      <td>27</td>\n",
       "      <td>fb</td>\n",
       "      <td>14</td>\n",
       "      <td>3</td>\n",
       "      <td>2</td>\n",
       "      <td>4</td>\n",
       "      <td>0</td>\n",
       "      <td>1</td>\n",
       "      <td>2</td>\n",
       "      <td>2.0</td>\n",
       "      <td>0.3</td>\n",
       "      <td>0</td>\n",
       "      <td>&lt; 5</td>\n",
       "    </tr>\n",
       "    <tr>\n",
       "      <th>285</th>\n",
       "      <td>286</td>\n",
       "      <td>Gabe Nabers\\NabeGa00</td>\n",
       "      <td>LAC</td>\n",
       "      <td>23</td>\n",
       "      <td>rb</td>\n",
       "      <td>16</td>\n",
       "      <td>5</td>\n",
       "      <td>2</td>\n",
       "      <td>7</td>\n",
       "      <td>0</td>\n",
       "      <td>1</td>\n",
       "      <td>4</td>\n",
       "      <td>3.5</td>\n",
       "      <td>0.4</td>\n",
       "      <td>0</td>\n",
       "      <td>&lt; 5</td>\n",
       "    </tr>\n",
       "    <tr>\n",
       "      <th>349</th>\n",
       "      <td>350</td>\n",
       "      <td>Patrick Ricard*\\RicaPa00</td>\n",
       "      <td>BAL</td>\n",
       "      <td>26</td>\n",
       "      <td>FB</td>\n",
       "      <td>15</td>\n",
       "      <td>10</td>\n",
       "      <td>1</td>\n",
       "      <td>-1</td>\n",
       "      <td>0</td>\n",
       "      <td>0</td>\n",
       "      <td>-1</td>\n",
       "      <td>-1.0</td>\n",
       "      <td>-0.1</td>\n",
       "      <td>1</td>\n",
       "      <td>&lt; 5</td>\n",
       "    </tr>\n",
       "  </tbody>\n",
       "</table>\n",
       "<p>80 rows × 16 columns</p>\n",
       "</div>"
      ],
      "text/plain": [
       "      Rk                     Player   Tm  Age Pos   G  GS  Att   Yds  TD  1D  \\\n",
       "0      1   Derrick Henry *\\HenrDe00  TEN   26  RB  16  16  378  2027  17  98   \n",
       "1      2      Dalvin Cook*\\CookDa01  MIN   25  RB  14  14  312  1557  16  91   \n",
       "2      3      Josh Jacobs*\\JacoJo01  LVR   22  RB  15  15  273  1065  12  61   \n",
       "3      4  David Montgomery\\MontDa01  CHI   23  RB  15  14  247  1070   8  59   \n",
       "4      5   Ezekiel Elliott\\ElliEz00  DAL   25  RB  15  15  244   979   6  62   \n",
       "..   ...                        ...  ...  ...  ..  ..  ..  ...   ...  ..  ..   \n",
       "251  252     Malcolm Perry\\PerrMa00  MIA   23  rb   9   2    3     5   0   1   \n",
       "254  255   Anthony Sherman\\SherAn00  KAN   32  rb  13   1    3     8   0   2   \n",
       "276  277     Andy Janovich\\JanoAn00  CLE   27  fb  14   3    2     4   0   1   \n",
       "285  286       Gabe Nabers\\NabeGa00  LAC   23  rb  16   5    2     7   0   1   \n",
       "349  350   Patrick Ricard*\\RicaPa00  BAL   26  FB  15  10    1    -1   0   0   \n",
       "\n",
       "     Lng  Y/A    Y/G  Fmb target  \n",
       "0     94  5.4  126.7    3    >=5  \n",
       "1     70  5.0  111.2    5    >=5  \n",
       "2     28  3.9   71.0    2    >=5  \n",
       "3     80  4.3   71.3    1    >=5  \n",
       "4     31  4.0   65.3    6    >=5  \n",
       "..   ...  ...    ...  ...    ...  \n",
       "251    6  1.7    0.6    1    < 5  \n",
       "254    6  2.7    0.6    0    < 5  \n",
       "276    2  2.0    0.3    0    < 5  \n",
       "285    4  3.5    0.4    0    < 5  \n",
       "349   -1 -1.0   -0.1    1    < 5  \n",
       "\n",
       "[80 rows x 16 columns]"
      ]
     },
     "execution_count": 163,
     "metadata": {},
     "output_type": "execute_result"
    }
   ],
   "source": [
    "df1"
   ]
  },
  {
   "cell_type": "code",
   "execution_count": 178,
   "metadata": {},
   "outputs": [
    {
     "data": {
      "text/plain": [
       "Text(0.5, 1.0, 'Yds/target')"
      ]
     },
     "execution_count": 178,
     "metadata": {},
     "output_type": "execute_result"
    },
    {
     "data": {
      "image/png": "[encoded data removed]",
      "text/plain": [
       "<Figure size 432x288 with 1 Axes>"
      ]
     },
     "metadata": {
      "needs_background": "light"
     },
     "output_type": "display_data"
    }
   ],
   "source": [
    "sb.boxplot(data=df1, y='Yds', x='target').set_title('Yds/target')"
   ]
  },
  {
   "cell_type": "markdown",
   "metadata": {},
   "source": [
    "### Q2.f"
   ]
  },
  {
   "cell_type": "code",
   "execution_count": 179,
   "metadata": {},
   "outputs": [
    {
     "data": {
      "text/plain": [
       "Text(0.5, 1.0, 'Yds/Fmb')"
      ]
     },
     "execution_count": 179,
     "metadata": {},
     "output_type": "execute_result"
    },
    {
     "data": {
      "image/png": "[encoded data removed]",
      "text/plain": [
       "<Figure size 432x288 with 1 Axes>"
      ]
     },
     "metadata": {
      "needs_background": "light"
     },
     "output_type": "display_data"
    }
   ],
   "source": [
    "sb.scatterplot(data=df1, y='Yds', x='Fmb').set_title('Yds/Fmb')"
   ]
  },
  {
   "cell_type": "markdown",
   "metadata": {},
   "source": [
    "### Q2.g"
   ]
  },
  {
   "cell_type": "code",
   "execution_count": 181,
   "metadata": {},
   "outputs": [
    {
     "data": {
      "text/plain": [
       "Text(0.5, 1.0, '1D vs. Y/A')"
      ]
     },
     "execution_count": 181,
     "metadata": {},
     "output_type": "execute_result"
    },
    {
     "data": {
      "image/png": "[encoded data removed]",
      "text/plain": [
       "<Figure size 432x288 with 1 Axes>"
      ]
     },
     "metadata": {
      "needs_background": "light"
     },
     "output_type": "display_data"
    }
   ],
   "source": [
    "sb.scatterplot(data=df1, y='1D', x='Y/A').set_title('1D vs. Y/A')"
   ]
  }
 ],
 "metadata": {
  "colab": {
   "collapsed_sections": [],
   "name": "P1-Python-template.ipynb",
   "provenance": [],
   "toc_visible": true
  },
  "kernelspec": {
   "display_name": "Python 3",
   "language": "python",
   "name": "python3"
  },
  "language_info": {
   "codemirror_mode": {
    "name": "ipython",
    "version": 3
   },
   "file_extension": ".py",
   "mimetype": "text/x-python",
   "name": "python",
   "nbconvert_exporter": "python",
   "pygments_lexer": "ipython3",
   "version": "3.7.9"
  }
 },
 "nbformat": 4,
 "nbformat_minor": 1
}
